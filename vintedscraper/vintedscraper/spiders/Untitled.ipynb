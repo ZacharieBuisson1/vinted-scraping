{
 "cells": [
  {
   "cell_type": "code",
   "execution_count": 8,
   "id": "5e04f596",
   "metadata": {},
   "outputs": [],
   "source": [
    "import scrapy\n",
    "from vintedscraper import *"
   ]
  },
  {
   "cell_type": "code",
   "execution_count": 9,
   "id": "ab6b4ae2",
   "metadata": {},
   "outputs": [],
   "source": [
    "url = \"https://www.vinted.fr/vetements?search_text=nike&time=1676444406&page=1\"\n",
    "headers = {\n",
    "    'User-Agent': 'Mozilla/5.0 (Windows NT 10.0;Win64) AppleWebkit/537.36 (KHTML, like Gecko) '\n",
    "                  'Chrome/89.0.4389.82 Safari/537.36'}\n",
    "# Gestion des erreurs de redirections\n",
    "meta = {'dont_redirect': True, 'handle_httpstatus_list': [302], 'exception': False}"
   ]
  },
  {
   "cell_type": "code",
   "execution_count": 23,
   "id": "0f867771",
   "metadata": {},
   "outputs": [],
   "source": [
    "def parse(response):\n",
    "    annonces = response.xpath(\".//div[@class='web_ui__ItemBox__box']\")\n",
    "    print(annonces.xpath(\".//div[@class='web_ui__Text__text web_ui__Text__caption web_ui__Text__left'\"))"
   ]
  },
  {
   "cell_type": "code",
   "execution_count": 24,
   "id": "0a955d11",
   "metadata": {},
   "outputs": [],
   "source": [
    "def start_requests():\n",
    "    # On installe un user-agent pour essayer de pouvoir scrapper librement\n",
    "    headers = {\n",
    "        'User-Agent': 'Mozilla/5.0 (Windows NT 10.0;Win64) AppleWebkit/537.36 (KHTML, like Gecko) '\n",
    "                      'Chrome/89.0.4389.82 Safari/537.36'}\n",
    "    # Gestion des erreurs de redirections\n",
    "    meta = {'dont_redirect': True, 'handle_httpstatus_list': [302], 'exception': False}\n",
    "\n",
    "    # On itère sur chaque page de notre url\n",
    "    for offset in range(1, 1, 25):\n",
    "        url = url\n",
    "        yield scrapy.Request(url=url, headers=headers, meta=meta, callback=self.parse)\n"
   ]
  },
  {
   "cell_type": "code",
   "execution_count": 25,
   "id": "283eee17",
   "metadata": {},
   "outputs": [
    {
     "data": {
      "text/plain": [
       "<generator object start_requests at 0x000001F666F029C8>"
      ]
     },
     "execution_count": 25,
     "metadata": {},
     "output_type": "execute_result"
    }
   ],
   "source": [
    "start_requests()"
   ]
  },
  {
   "cell_type": "code",
   "execution_count": null,
   "id": "8636b8d3",
   "metadata": {},
   "outputs": [],
   "source": [
    "\"https://www.vinted.fr/vetements?search_text=nike&time=1676444406&page=1\""
   ]
  }
 ],
 "metadata": {
  "kernelspec": {
   "display_name": "Python 3 (ipykernel)",
   "language": "python",
   "name": "python3"
  },
  "language_info": {
   "codemirror_mode": {
    "name": "ipython",
    "version": 3
   },
   "file_extension": ".py",
   "mimetype": "text/x-python",
   "name": "python",
   "nbconvert_exporter": "python",
   "pygments_lexer": "ipython3",
   "version": "3.7.4"
  }
 },
 "nbformat": 4,
 "nbformat_minor": 5
}
